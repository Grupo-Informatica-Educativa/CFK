{
 "metadata": {
  "language_info": {
   "codemirror_mode": {
    "name": "ipython",
    "version": 3
   },
   "file_extension": ".py",
   "mimetype": "text/x-python",
   "name": "python",
   "nbconvert_exporter": "python",
   "pygments_lexer": "ipython3",
   "version": "3.8.9"
  },
  "orig_nbformat": 4,
  "kernelspec": {
   "name": "python3",
   "display_name": "Python 3.8.9  ('venv': venv)"
  },
  "interpreter": {
   "hash": "692960185e917d6b97187268af236b149a77acc75297ed3b13647897eb28ef89"
  }
 },
 "nbformat": 4,
 "nbformat_minor": 2,
 "cells": [
  {
   "cell_type": "code",
   "execution_count": 4,
   "metadata": {},
   "outputs": [],
   "source": [
    "import pandas as pd"
   ]
  },
  {
   "cell_type": "code",
   "execution_count": 36,
   "metadata": {},
   "outputs": [
    {
     "output_type": "stream",
     "name": "stderr",
     "text": [
      "d:\\PROGRAMMING\\CFK\\venv\\lib\\site-packages\\IPython\\core\\interactiveshell.py:3169: DtypeWarning: Columns (8,9,10) have mixed types.Specify dtype option on import or set low_memory=False.\n  has_raised = await self.run_ast_nodes(code_ast.body, cell_name,\n"
     ]
    }
   ],
   "source": [
    "df1 = pd.read_csv('../../data/crudos/bd_full_inicial.csv', error_bad_lines=False, warn_bad_lines=False)\n",
    "df2 = pd.read_csv('../../data/crudos/bd_full_avanzado.csv', error_bad_lines=False, warn_bad_lines=False)"
   ]
  },
  {
   "cell_type": "code",
   "execution_count": 11,
   "metadata": {},
   "outputs": [
    {
     "output_type": "execute_result",
     "data": {
      "text/plain": [
       "                                                 Pregunta  \\\n",
       "386991  La alcaldía acaba de contratar a Valeria para ...   \n",
       "387032  La alcaldía acaba de contratar a Valeria para ...   \n",
       "387267  La alcaldía acaba de contratar a Valeria para ...   \n",
       "387338  La alcaldía acaba de contratar a Valeria para ...   \n",
       "387456  La alcaldía acaba de contratar a Valeria para ...   \n",
       "...                                                   ...   \n",
       "560310  La alcaldía acaba de contratar a Valeria para ...   \n",
       "560472  La alcaldía acaba de contratar a Valeria para ...   \n",
       "560582  La alcaldía acaba de contratar a Valeria para ...   \n",
       "560609  La alcaldía acaba de contratar a Valeria para ...   \n",
       "560731  La alcaldía acaba de contratar a Valeria para ...   \n",
       "\n",
       "                  Respuesta Nombre De Usuario  \n",
       "386991             Imagen 3        25290410.0  \n",
       "387032             Imagen 3        40731739.0  \n",
       "387267  No sé/No lo conozco        52913295.0  \n",
       "387338             Imagen 2        54259252.0  \n",
       "387456             Imagen 3        52772462.0  \n",
       "...                     ...               ...  \n",
       "560310             Imagen 3        73271160.0  \n",
       "560472             Imagen 2        34940665.0  \n",
       "560582             Imagen 2        15337792.0  \n",
       "560609             Imagen 3      1097390048.0  \n",
       "560731             Imagen 3        19269332.0  \n",
       "\n",
       "[5268 rows x 3 columns]"
      ],
      "text/html": "<div>\n<style scoped>\n    .dataframe tbody tr th:only-of-type {\n        vertical-align: middle;\n    }\n\n    .dataframe tbody tr th {\n        vertical-align: top;\n    }\n\n    .dataframe thead th {\n        text-align: right;\n    }\n</style>\n<table border=\"1\" class=\"dataframe\">\n  <thead>\n    <tr style=\"text-align: right;\">\n      <th></th>\n      <th>Pregunta</th>\n      <th>Respuesta</th>\n      <th>Nombre De Usuario</th>\n    </tr>\n  </thead>\n  <tbody>\n    <tr>\n      <th>386991</th>\n      <td>La alcaldía acaba de contratar a Valeria para ...</td>\n      <td>Imagen 3</td>\n      <td>25290410.0</td>\n    </tr>\n    <tr>\n      <th>387032</th>\n      <td>La alcaldía acaba de contratar a Valeria para ...</td>\n      <td>Imagen 3</td>\n      <td>40731739.0</td>\n    </tr>\n    <tr>\n      <th>387267</th>\n      <td>La alcaldía acaba de contratar a Valeria para ...</td>\n      <td>No sé/No lo conozco</td>\n      <td>52913295.0</td>\n    </tr>\n    <tr>\n      <th>387338</th>\n      <td>La alcaldía acaba de contratar a Valeria para ...</td>\n      <td>Imagen 2</td>\n      <td>54259252.0</td>\n    </tr>\n    <tr>\n      <th>387456</th>\n      <td>La alcaldía acaba de contratar a Valeria para ...</td>\n      <td>Imagen 3</td>\n      <td>52772462.0</td>\n    </tr>\n    <tr>\n      <th>...</th>\n      <td>...</td>\n      <td>...</td>\n      <td>...</td>\n    </tr>\n    <tr>\n      <th>560310</th>\n      <td>La alcaldía acaba de contratar a Valeria para ...</td>\n      <td>Imagen 3</td>\n      <td>73271160.0</td>\n    </tr>\n    <tr>\n      <th>560472</th>\n      <td>La alcaldía acaba de contratar a Valeria para ...</td>\n      <td>Imagen 2</td>\n      <td>34940665.0</td>\n    </tr>\n    <tr>\n      <th>560582</th>\n      <td>La alcaldía acaba de contratar a Valeria para ...</td>\n      <td>Imagen 2</td>\n      <td>15337792.0</td>\n    </tr>\n    <tr>\n      <th>560609</th>\n      <td>La alcaldía acaba de contratar a Valeria para ...</td>\n      <td>Imagen 3</td>\n      <td>1097390048.0</td>\n    </tr>\n    <tr>\n      <th>560731</th>\n      <td>La alcaldía acaba de contratar a Valeria para ...</td>\n      <td>Imagen 3</td>\n      <td>19269332.0</td>\n    </tr>\n  </tbody>\n</table>\n<p>5268 rows × 3 columns</p>\n</div>"
     },
     "metadata": {},
     "execution_count": 11
    }
   ],
   "source": [
    "pre_ini = df1[df1.Encuesta == 'Cuestionario Inicial']\n",
    "col = \"La alcaldía acaba de contratar a Valeria para hacer un programa en la Micro:bit que controle el alumbrado público de su ciudad. Utilizando el sensor de luz de la tarjeta Micro:bit, ella se dio cuenta que cuando mide niveles de luz con un valor por debajo\\n    de 100, ya está suficientemente oscuro como para prender el alumbrado público. El programa que hizo funciona bien para prender el alumbrado de la ciudad, pero luego cuando amanece, las luces siguen encendidas durante todo el día.\\n\\n\\nValeria no está segura cómo solucionarlo, pero tiene algunas ideas que cree que podrían funcionar. ¿Cuál de las siguientes opciones crees que debería usar Valeria?\\n\\n\\n  \\n    \\n      Imagen 1\\n    \\n    \\n      Imagen 2\\n    \\n  \\n  \\n    \\n      Imagen 3\\n    \\n    \\n      Imagen 4\\n    \\n  \\n\"\n",
    "df_a = pre_ini[pre_ini.Pregunta == col][['Pregunta', 'Respuesta', 'Nombre De Usuario']]\n",
    "df_a.Pregunta = df_a.Pregunta.str.replace(\"\\n\", \" \").str.strip()\n",
    "\n",
    "df_a\n"
   ]
  },
  {
   "cell_type": "code",
   "execution_count": 12,
   "metadata": {},
   "outputs": [],
   "source": [
    "pivot_inicial = df_a.pivot_table(index=['Nombre De Usuario'],\n",
    "                                       columns='Pregunta', values='Respuesta', aggfunc='first').reset_index()\n",
    "\n",
    "\n"
   ]
  },
  {
   "cell_type": "code",
   "execution_count": 16,
   "metadata": {},
   "outputs": [
    {
     "output_type": "stream",
     "name": "stdout",
     "text": [
      "Shape inicial v2:  (4747, 101)\nShape inicial merge:  (4747, 102)\n"
     ]
    }
   ],
   "source": [
    "pretest_ini_v2 = pd.read_excel('../../data/limpios/pretest_inicial_v2.xlsx')\n",
    "print(\"Shape inicial v2: \", pretest_ini_v2.shape)\n",
    "\n",
    "pretest_ini_v2 = pretest_ini_v2.merge(pivot_inicial, left_on='Identificación', right_on='Nombre De Usuario')\n",
    "pretest_ini_v2.drop(columns=['Nombre De Usuario'], inplace=True)\n",
    "\n",
    "print(\"Shape inicial merge: \", pretest_ini_v2.shape)\n",
    "\n",
    "pretest_ini_v2.rename(columns={\n",
    "    'La alcaldía acaba de contratar a Valeria para hacer un programa en la Micro:bit que controle el alumbrado público de su ciudad. Utilizando el sensor de luz de la tarjeta Micro:bit, ella se dio cuenta que cuando mide niveles de luz con un valor por debajo     de 100, ya está suficientemente oscuro como para prender el alumbrado público. El programa que hizo funciona bien para prender el alumbrado de la ciudad, pero luego cuando amanece, las luces siguen encendidas durante todo el día.   Valeria no está segura cómo solucionarlo, pero tiene algunas ideas que cree que podrían funcionar. ¿Cuál de las siguientes opciones crees que debería usar Valeria?                 Imagen 1                 Imagen 2                       Imagen 3                 Imagen 4': '30. La alcaldía acaba de contratar a Valeria para hacer un programa en la Micro:bit que controle el alumbrado público de su ciudad. Utilizando el sensor de luz de la tarjeta Micro:bit, ella se dio cuenta que cuando mide niveles de luz con un valor por debajo     de 100, ya está suficientemente oscuro como para prender el alumbrado público. El programa que hizo funciona bien para prender el alumbrado de la ciudad, pero luego cuando amanece, las luces siguen encendidas durante todo el día.   Valeria no está segura cómo solucionarlo, pero tiene algunas ideas que cree que podrían funcionar. ¿Cuál de las siguientes opciones crees que debería usar Valeria?                 Imagen 1                 Imagen 2                       Imagen 3                 Imagen 4'\n",
    "}, inplace=True)"
   ]
  },
  {
   "cell_type": "code",
   "execution_count": 17,
   "metadata": {},
   "outputs": [
    {
     "output_type": "execute_result",
     "data": {
      "text/plain": [
       "Index(['Identificación', 'Grupo', 'Monitor', 'Mentor', 'Edad', 'Género',\n",
       "       'Departamento', 'Estrato', 'Pertenece a etnia', 'Etnia',\n",
       "       ...\n",
       "       '25. Andrea hizo un diagrama de flujo para diseñar el algoritmo que le permitirá encender automáticamente el ventilador cuando esté muy caliente su habitación. Sin embargo, no está segura de que funcione. ¿Qué le podrías recomendar?',\n",
       "       '26. Considera el siguiente segmento de código ¿Después de que el anterior código se ejecuta, cual es el valor de la variable secuela?',\n",
       "       '27. Considera el siguiente código: Si a=3, b=8 y c=10, ¿Qué imprimirá el programa?',\n",
       "       '28. Considera el siguiente código: Después de que se ejecute el código anterior, ¿Cuáles de los siguientes enunciados son verdaderos?',\n",
       "       '29. Suponiendo que “a” y “b” son variables booleanas. Considera la siguiente expresión lógica:¿Cuál de las siguientes afirmaciones describe de manera más precisa la evaluación de las expresiones?',\n",
       "       '31. Teniendo en cuenta el siguiente fragmento de código, Alejandra responde a la pregunta ¿Cuál será el valor final de “Y”? afirmando que el valor final será 44. El código retorna 120 ¿Qué opinas de la respuesta de Alejandra?',\n",
       "       '23. La cafetería del colegio empacó almuerzos iguales para todos los estudiantes, menos los de Juan Arias y María Vásquez que no pueden comer huevo. Los almuerzos están marcados con el apellido de los estudiantes y organizados alfabéticamente. Para verificar que su almuerzo cumple con la restricción alimenticia María con ayuda de su profesor buscan en las cajas. María sabe que su almuerzo debe estar al final, así que busca hasta que encuentre una caja que comience por una letra cerca de la V. Cuando encuentra una que comienza con Trujillo, mira el último almuerzo de esa caja y se da cuenta que termina en Zapata. Así, María se da cuenta que su almuerzo debe estar allí. ¿Está María usando el pensamiento computacional para encontrar su almuerzo? Seleccione todas las respuestas que considere correctas.',\n",
       "       '22. La docente Margarita decidió hacer que sus estudiantes de segundo de primaria utilicen los computadores del colegio para predecir el clima de una semana (temperatura, precipitaciones, y viento). Cada estudiante debe dibujar cómo se verá el clima en la ciudad en dicha semana. Margarita, creó un archivo compartido donde los estudiantes ingresarán la información. Luego tomaron las predicciones de modelos de Internet y los ingresaron en el mismo documento compartido. Durante una semana tomaron los datos reales, y luego, proyectaron en el tablero los datos predichos por los estudiantes, los del modelo de Internet, y los datos reales. Al finalizar, Margarita les mostró a los estudiantes cómo hacer un gráfico para comparar los diferentes datos. ¿Está Margarita desarrollando el pensamiento computacional de sus estudiantes? Seleccione todas las respuestas que considere correctas.',\n",
       "       '33. ¿Cómo le ayudarías a comprender la diferencia entre los dos códigos?',\n",
       "       '30. La alcaldía acaba de contratar a Valeria para hacer un programa en la Micro:bit que controle el alumbrado público de su ciudad. Utilizando el sensor de luz de la tarjeta Micro:bit, ella se dio cuenta que cuando mide niveles de luz con un valor por debajo     de 100, ya está suficientemente oscuro como para prender el alumbrado público. El programa que hizo funciona bien para prender el alumbrado de la ciudad, pero luego cuando amanece, las luces siguen encendidas durante todo el día.   Valeria no está segura cómo solucionarlo, pero tiene algunas ideas que cree que podrían funcionar. ¿Cuál de las siguientes opciones crees que debería usar Valeria?                 Imagen 1                 Imagen 2                       Imagen 3                 Imagen 4'],\n",
       "      dtype='object', length=102)"
      ]
     },
     "metadata": {},
     "execution_count": 17
    }
   ],
   "source": [
    "pretest_ini_v2.columns"
   ]
  },
  {
   "cell_type": "code",
   "execution_count": 19,
   "metadata": {},
   "outputs": [],
   "source": [
    "pretest_ini_v2.to_excel(\"pretest_inicial_v4.xlsx\", index=False, encoding='utf-8-sig')"
   ]
  },
  {
   "cell_type": "code",
   "execution_count": 38,
   "metadata": {},
   "outputs": [
    {
     "output_type": "execute_result",
     "data": {
      "text/plain": [
       "                                                Pregunta            Respuesta  \\\n",
       "55895  La alcaldía acaba de contratar a Valeria para ...             Imagen 3   \n",
       "55908  La alcaldía acaba de contratar a Valeria para ...             Imagen 3   \n",
       "55921  La alcaldía acaba de contratar a Valeria para ...  No sé/No lo conozco   \n",
       "55942  La alcaldía acaba de contratar a Valeria para ...             Imagen 3   \n",
       "55947  La alcaldía acaba de contratar a Valeria para ...             Imagen 3   \n",
       "...                                                  ...                  ...   \n",
       "72431  La alcaldía acaba de contratar a Valeria para ...             Imagen 4   \n",
       "72444  La alcaldía acaba de contratar a Valeria para ...             Imagen 2   \n",
       "72457  La alcaldía acaba de contratar a Valeria para ...             Imagen 4   \n",
       "72470  La alcaldía acaba de contratar a Valeria para ...             Imagen 3   \n",
       "72483  La alcaldía acaba de contratar a Valeria para ...  No sé/No lo conozco   \n",
       "\n",
       "      Nombre De Usuario  \n",
       "55895          71212210  \n",
       "55908        1018414113  \n",
       "55921           8675051  \n",
       "55942          72005406  \n",
       "55947          93402660  \n",
       "...                 ...  \n",
       "72431           3838363  \n",
       "72444        1091654585  \n",
       "72457          48600824  \n",
       "72470          12628474  \n",
       "72483          80168899  \n",
       "\n",
       "[1277 rows x 3 columns]"
      ],
      "text/html": "<div>\n<style scoped>\n    .dataframe tbody tr th:only-of-type {\n        vertical-align: middle;\n    }\n\n    .dataframe tbody tr th {\n        vertical-align: top;\n    }\n\n    .dataframe thead th {\n        text-align: right;\n    }\n</style>\n<table border=\"1\" class=\"dataframe\">\n  <thead>\n    <tr style=\"text-align: right;\">\n      <th></th>\n      <th>Pregunta</th>\n      <th>Respuesta</th>\n      <th>Nombre De Usuario</th>\n    </tr>\n  </thead>\n  <tbody>\n    <tr>\n      <th>55895</th>\n      <td>La alcaldía acaba de contratar a Valeria para ...</td>\n      <td>Imagen 3</td>\n      <td>71212210</td>\n    </tr>\n    <tr>\n      <th>55908</th>\n      <td>La alcaldía acaba de contratar a Valeria para ...</td>\n      <td>Imagen 3</td>\n      <td>1018414113</td>\n    </tr>\n    <tr>\n      <th>55921</th>\n      <td>La alcaldía acaba de contratar a Valeria para ...</td>\n      <td>No sé/No lo conozco</td>\n      <td>8675051</td>\n    </tr>\n    <tr>\n      <th>55942</th>\n      <td>La alcaldía acaba de contratar a Valeria para ...</td>\n      <td>Imagen 3</td>\n      <td>72005406</td>\n    </tr>\n    <tr>\n      <th>55947</th>\n      <td>La alcaldía acaba de contratar a Valeria para ...</td>\n      <td>Imagen 3</td>\n      <td>93402660</td>\n    </tr>\n    <tr>\n      <th>...</th>\n      <td>...</td>\n      <td>...</td>\n      <td>...</td>\n    </tr>\n    <tr>\n      <th>72431</th>\n      <td>La alcaldía acaba de contratar a Valeria para ...</td>\n      <td>Imagen 4</td>\n      <td>3838363</td>\n    </tr>\n    <tr>\n      <th>72444</th>\n      <td>La alcaldía acaba de contratar a Valeria para ...</td>\n      <td>Imagen 2</td>\n      <td>1091654585</td>\n    </tr>\n    <tr>\n      <th>72457</th>\n      <td>La alcaldía acaba de contratar a Valeria para ...</td>\n      <td>Imagen 4</td>\n      <td>48600824</td>\n    </tr>\n    <tr>\n      <th>72470</th>\n      <td>La alcaldía acaba de contratar a Valeria para ...</td>\n      <td>Imagen 3</td>\n      <td>12628474</td>\n    </tr>\n    <tr>\n      <th>72483</th>\n      <td>La alcaldía acaba de contratar a Valeria para ...</td>\n      <td>No sé/No lo conozco</td>\n      <td>80168899</td>\n    </tr>\n  </tbody>\n</table>\n<p>1277 rows × 3 columns</p>\n</div>"
     },
     "metadata": {},
     "execution_count": 38
    }
   ],
   "source": [
    "## AVANZADO\n",
    "\n",
    "pre_av = df2[df2.Encuesta == 'Cuestionario Inicial']\n",
    "col = [preg for preg in pre_av.Pregunta.unique() if preg.startswith(\"La alcaldía\")][0]\n",
    "col\n",
    "df_a = pre_av[pre_av.Pregunta == col][['Pregunta', 'Respuesta', 'Nombre De Usuario']]\n",
    "df_a.Pregunta = df_a.Pregunta.str.replace(\"\\n\", \" \").str.strip()\n",
    "\n",
    "df_a"
   ]
  },
  {
   "cell_type": "code",
   "execution_count": 39,
   "metadata": {},
   "outputs": [],
   "source": [
    "pivot_avanzado = df_a.pivot_table(index=['Nombre De Usuario'],\n",
    "                                       columns='Pregunta', values='Respuesta', aggfunc='first').reset_index()\n",
    "\n",
    "\n"
   ]
  },
  {
   "cell_type": "code",
   "execution_count": 53,
   "metadata": {},
   "outputs": [
    {
     "output_type": "stream",
     "name": "stdout",
     "text": [
      "<class 'pandas.core.frame.DataFrame'>\nInt64Index: 1276 entries, 0 to 1275\nData columns (total 2 columns):\n #   Column                                                                                                                                                                                                                                                                                                                                                                                                                                                                                                                                                                                                                                                                                                                                                                                                                                                                                    Non-Null Count  Dtype \n---  ------                                                                                                                                                                                                                                                                                                                                                                                                                                                                                                                                                                                                                                                                                                                                                                                                                                                                                    --------------  ----- \n 0   Nombre De Usuario                                                                                                                                                                                                                                                                                                                                                                                                                                                                                                                                                                                                                                                                                                                                                                                                                                                                         1276 non-null   int64 \n 1   La alcaldía acaba de contratar a Valeria para hacer un programa en la Micro:bit que controle el alumbrado público de su ciudad. Utilizando el sensor de luz de la tarjeta Micro:bit, ella se dio cuenta que cuando mide niveles de luz con un valor por debajo     de 100, ya está suficientemente oscuro como para prender el alumbrado público. El programa que hizo funciona bien para prender el alumbrado de la ciudad, pero luego cuando amanece, las luces siguen encendidas durante todo el día.   Valeria no está segura cómo solucionarlo, pero tiene algunas ideas que cree que podrían funcionar. ¿Cuál de las siguientes opciones crees que debería usar Valeria?                            Imagen 1                                            Imagen 2                                                      Imagen 3                                            Imagen 4  1276 non-null   object\ndtypes: int64(1), object(1)\nmemory usage: 29.9+ KB\n"
     ]
    }
   ],
   "source": [
    "pivot_avanzado = pivot_avanzado[pivot_avanzado['Nombre De Usuario'].str.isdigit()]\n",
    "pivot_avanzado['Nombre De Usuario'] = pivot_avanzado['Nombre De Usuario'].apply(pd.to_numeric)\n",
    "pivot_avanzado.info()"
   ]
  },
  {
   "cell_type": "code",
   "execution_count": null,
   "metadata": {},
   "outputs": [],
   "source": []
  },
  {
   "cell_type": "code",
   "execution_count": 56,
   "metadata": {},
   "outputs": [
    {
     "output_type": "stream",
     "name": "stdout",
     "text": [
      "Shape avanzado v2:  (1171, 90)\nShape inicial merge:  (1171, 91)\n"
     ]
    }
   ],
   "source": [
    "pretest_av_v2 = pd.read_excel('../../data/limpios/pretest_avanzado_v2.xlsx')\n",
    "print(\"Shape avanzado v2: \", pretest_av_v2.shape)\n",
    "\n",
    "pretest_av_v2 = pretest_av_v2.merge(pivot_avanzado, left_on='Identificación', right_on='Nombre De Usuario')\n",
    "pretest_av_v2.drop(columns=['Nombre De Usuario'], inplace=True)\n",
    "\n",
    "print(\"Shape inicial merge: \", pretest_av_v2.shape)\n",
    "\n",
    "pretest_av_v2.rename(columns={\n",
    "    'La alcaldía acaba de contratar a Valeria para hacer un programa en la Micro:bit que controle el alumbrado público de su ciudad. Utilizando el sensor de luz de la tarjeta Micro:bit, ella se dio cuenta que cuando mide niveles de luz con un valor por debajo     de 100, ya está suficientemente oscuro como para prender el alumbrado público. El programa que hizo funciona bien para prender el alumbrado de la ciudad, pero luego cuando amanece, las luces siguen encendidas durante todo el día.   Valeria no está segura cómo solucionarlo, pero tiene algunas ideas que cree que podrían funcionar. ¿Cuál de las siguientes opciones crees que debería usar Valeria?                            Imagen 1                                            Imagen 2                                                      Imagen 3                                            Imagen 4': '30. La alcaldía acaba de contratar a Valeria para hacer un programa en la Micro:bit que controle el alumbrado público de su ciudad. Utilizando el sensor de luz de la tarjeta Micro:bit, ella se dio cuenta que cuando mide niveles de luz con un valor por debajo     de 100, ya está suficientemente oscuro como para prender el alumbrado público. El programa que hizo funciona bien para prender el alumbrado de la ciudad, pero luego cuando amanece, las luces siguen encendidas durante todo el día.   Valeria no está segura cómo solucionarlo, pero tiene algunas ideas que cree que podrían funcionar. ¿Cuál de las siguientes opciones crees que debería usar Valeria?                 Imagen 1                 Imagen 2                       Imagen 3                 Imagen 4'\n",
    "}, inplace=True)"
   ]
  },
  {
   "cell_type": "code",
   "execution_count": 57,
   "metadata": {},
   "outputs": [
    {
     "output_type": "execute_result",
     "data": {
      "text/plain": [
       "Index(['Identificación', 'Nombre', 'Apellidos', 'Grupo', 'Monitor', 'Mentor',\n",
       "       'Edad', 'Género', 'Departamento', 'Estrato', 'Pertenece a etnia',\n",
       "       'Etnia', 'Nivel educativo', 'Cargo', 'Acceso a internet',\n",
       "       'Modelo educativo actual', 'Contexto IE', '¿Es usted cabeza de hogar? ',\n",
       "       '¿Es usted líder comunitario?',\n",
       "       '9.1 Ciencias naturales y educación ambiental',\n",
       "       '9.2 Ciencias sociales, historia, geografía, constitución política y democracia',\n",
       "       '9.3 Educación artística', '9.4 Educación ética y en valores humanos',\n",
       "       '9.5 Educación física, recreación y deportes',\n",
       "       '9.6 Educación religiosa',\n",
       "       '9.7 Humanidades, lengua castellana e idiomas extranjeros',\n",
       "       '9.8 Matemáticas', '9.9 Tecnología e informática', '9.10 Otro',\n",
       "       '10.1 Promover actividades que no perpetúen estereotipos de género, por ejemplo, que las niñas y adolescentes jueguen a la construcción y ensamble.',\n",
       "       '10.2 Realizar clubes y actividades extracurriculares para niñas y jóvenes como refuerzo de lo visto en las clases de áreas STEM.',\n",
       "       '10.3 Destacar y reconocer los logros de las niñas y jóvenes, por ejemplo, promover concursos diferenciados por género, como, premio a la niña científica y el niño científico.',\n",
       "       '10.4 Dedicar una clase exclusiva a reflexionar sobre el género, por ejemplo, con una película, una lectura o una conversación, etc',\n",
       "       '10.5 Dar referencias o modelos de mujeres destacadas en las áreas STEM, por ejemplo, mostrar la película de Marie Curie.',\n",
       "       '11.1 Es preferible que las mujeres enseñen ciencias sociales y los hombres ciencias exactas',\n",
       "       '11.2 Es necesario que haya igual número de mujeres ganadoras del nobel de física como hombres',\n",
       "       '11.3 Es normal que la mayoría de los ingenieros mecánicos sean varones porque los hombres son mejores para los números',\n",
       "       '11.4 Las becas en áreas STEM que son sólo para mujeres discriminan a los hombres y generan desigualdad',\n",
       "       '11.5 Que haya más físicos que físicas se explica por una historia de dominación masculina',\n",
       "       '11.6 Muchas mujeres se caracterizan por una pureza que pocos hombres poseen',\n",
       "       '11.7 Las mujeres deben ser queridas y protegidas por los hombres',\n",
       "       '11.8 Todo hombre debe tener una mujer a quien amar',\n",
       "       '11.9 El hombre está incompleto sin la mujer',\n",
       "       '11.10 Las mujeres en comparación con los hombres tienden a tener un sentido más refinado de la cultura y el buen gusto',\n",
       "       '11.11 Los hombres deberían estar dispuestos a sacrificar su propio bienestar con el fin de proveer seguridad económica a las mujeres',\n",
       "       '13.1 Sé cómo resolver los problemas técnicos cuando fallan las TIC',\n",
       "       '13.2 Puedo aprender sobre nuevas tecnologías fácilmente',\n",
       "       '13.3 Sé cómo usar las TIC con los estudiantes en clase',\n",
       "       '13.4 Me apoyo en mis colegas para resolver problemas sobre cómo trabajar algún tema',\n",
       "       '13.5 Puedo hablar con otros docentes sobre el diseño de cursos',\n",
       "       '13.6 Siento que tengo apoyo de otros docentes para el diseño de mis cursos',\n",
       "       '13.7 No tengo con quién conversar sobre el diseño de mis cursos',\n",
       "       '15.1 Usar el correo electrónico',\n",
       "       '15.2 Crear y usar de modelos y simulaciones',\n",
       "       '15.3 Automatizar tareas', '15.4 Usar Word', '15.5 Procesar Datos',\n",
       "       '15.6 Resolver problemas a través de herramientas computacionales (como simulaciones)',\n",
       "       '15.7 Resolver problemas a través de herramientas computacionales (como lenguajes de programación)',\n",
       "       '16.1 Puedo aplicar las prácticas y habilidades del pensamiento computacional a mi trabajo',\n",
       "       '16.2 Puedo definir el pensamiento computacional',\n",
       "       '16.3 Puedo describir las prácticas y habilidades que componen el pensamiento computacional a mis estudiantes',\n",
       "       '16.4 Puedo aplicar las prácticas y habilidades del pensamiento computacional a mi vida diaria',\n",
       "       '16.5 Creo que tengo las habilidades para desarrollar el pensamiento computacional en mis estudiantes',\n",
       "       '16.6 Puedo enseñar fácilmente sobre nuevas prácticas computacionales',\n",
       "       '16.7 Puedo diseñar una clase que desarrolle el pensamiento computacional en los estudiantes',\n",
       "       '16.8 Puedo seleccionar tecnologías para usar en mi salón de clases, que me permitan mejorar qué enseño y cómo enseño pensamiento computacional',\n",
       "       '16.9 Puedo aplicar mis habilidades en pensamiento computacional para ayudar a los estudiantes a perseguir sus intereses individuales',\n",
       "       '16.10 Puedo implementar y evaluar la idoneidad de una estrategia pedagógica que le permita a los estudiantes desarrollar pensamiento computacional ',\n",
       "       '18.1 Actividades desconectadas', '18.2 Usa-Modifica-Crea',\n",
       "       '18.3 Clase magistral', '18.4 Enseñanza explícita y sin ambigüedades',\n",
       "       '18.5 Marcha Silenciosa', '18.6 Aprendizaje basado en proyectos',\n",
       "       '20.1 Le explicaría la respuesta correcta',\n",
       "       '20.2 Le sugeriría ir paso a paso por el programa simulando su ejecución ',\n",
       "       '20.3 Le diría que revise sus notas',\n",
       "       '20.4 Le sugeriría que revise las memorias colectivas',\n",
       "       '20.5 Le sugeriría volver a leer el problema',\n",
       "       '20.6 Le sugeriría intentar con varios valores para evaluar el programa',\n",
       "       '20.7 Le explicaría el problema nuevamente',\n",
       "       '25. Considera el siguiente segmento de código:¿En qué orden deberá realizar las siguientes operaciones de manera que el valor de la variable “a” sea 15 al finalizar?',\n",
       "       '26. Tim examina cada una de las siguientes piezas de código y responde que la primera termina con X siendo igual a 5, y la segunda con X siendo igual a 16.¿Cuál es el error conceptual de Tim?',\n",
       "       '27. María vive cerca de una montaña donde hace mucho calor en el día, pero mucho frío en la noche. Ella tiene calefacción y aire acondicionado en su apartamento, pero deben prenderlo desde la portería que está en el primer piso del edificio. María decidió     programar la Micro:bit para que envíe un mensaje de encender la calefacción cuando esté frío (menos de 15 grados) y encender el aire acondicionado cuando esté caliente (más de 25 grados).   ¿Cuál de los siguientes programas le podríafuncionar a María?                            Imagen 1                                                              Imagen 2                                                                        Imagen 3                                                             Imagen 4',\n",
       "       '28. Juan y Andrea crearon un juego en la Micro:bit y lo compartieron con sus compañeros. Sin embargo, nadie parece entender de qué se trata.',\n",
       "       '24. Considera el siguiente segmento de código:Seleccione el fragmento de código más correcto que resultará en el cálculo del área de la superficie de un cilindro, dada la fórmula:',\n",
       "       '22. La contaminación en las principales ciudades del país es algo que preocupa a los gobernantes. Las concentraciones de contaminantes se miden con un valor llamado el Índice de Calidad del Aire (ICA).   La siguiente tabla muestra los valores para los cuales el ICA representa una calidad del aire Buena, Regular, Mala, y Muy Mala.Como el programa que creó Nicolás mostró que el aire en el centro de la ciudad estaba muy contaminado en ciertos momentos, el alcalde decidió tomar medidas extremas. Revisa el siguiente programa y elije la opción que describe la medida que tomó el alcalde.',\n",
       "       '23. Dada la definición de la función:¿Cuál de las siguientes afirmaciones describe mejor el llamado a la función sumar (8, 5, 12)?',\n",
       "       '29. ¿Cómo le ayudarías a Juan y Andrea a explicarle a sus compañeros de clase el juego que han diseñado?',\n",
       "       '30. La alcaldía acaba de contratar a Valeria para hacer un programa en la Micro:bit que controle el alumbrado público de su ciudad. Utilizando el sensor de luz de la tarjeta Micro:bit, ella se dio cuenta que cuando mide niveles de luz con un valor por debajo     de 100, ya está suficientemente oscuro como para prender el alumbrado público. El programa que hizo funciona bien para prender el alumbrado de la ciudad, pero luego cuando amanece, las luces siguen encendidas durante todo el día.   Valeria no está segura cómo solucionarlo, pero tiene algunas ideas que cree que podrían funcionar. ¿Cuál de las siguientes opciones crees que debería usar Valeria?                 Imagen 1                 Imagen 2                       Imagen 3                 Imagen 4'],\n",
       "      dtype='object')"
      ]
     },
     "metadata": {},
     "execution_count": 57
    }
   ],
   "source": [
    "pretest_av_v2.columns"
   ]
  },
  {
   "cell_type": "code",
   "execution_count": 58,
   "metadata": {},
   "outputs": [],
   "source": [
    "pretest_av_v2.to_excel(\"pretest_avanzado_v3.xlsx\", index=False, encoding='utf-8-sig')"
   ]
  }
 ]
}