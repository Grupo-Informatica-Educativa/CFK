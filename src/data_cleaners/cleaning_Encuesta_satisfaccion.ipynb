{
 "cells": [
  {
   "cell_type": "code",
   "execution_count": 1,
   "metadata": {},
   "outputs": [],
   "source": [
    "import pandas as pd\r\n",
    "import numpy as np"
   ]
  },
  {
   "cell_type": "code",
   "execution_count": 2,
   "metadata": {},
   "outputs": [],
   "source": [
    "df_inicial = pd.read_csv('../../data/crudos/bd_full_inicial_corte27jun.csv',\r\n",
    "                         error_bad_lines=False, warn_bad_lines=False,\r\n",
    "                         low_memory=False)\r\n",
    "df_avanzado = pd.read_csv('../../data/crudos/bd_full_avanzado_corte27jun.csv',\r\n",
    "                          error_bad_lines=False, warn_bad_lines=False,\r\n",
    "                          low_memory=False)\r\n",
    "\r\n",
    "\r\n",
    "df_inicial = df_inicial[df_inicial.Encuesta == 'U4 Encuesta de satisfacción (23 puntos)']\r\n",
    "df_avanzado = df_avanzado[df_avanzado.Encuesta == 'UA4 Encuesta de satisfacción (3 puntos)']"
   ]
  },
  {
   "cell_type": "code",
   "execution_count": 3,
   "metadata": {},
   "outputs": [],
   "source": [
    "# PIVOT DATA\r\n",
    "pivot_inicial = df_inicial.pivot_table(\r\n",
    "    index=['Nombre', 'Apellido', 'Correo Electrónico', 'Curso', 'ID Asignado Por Moodle', 'Nombre De Usuario'],\r\n",
    "    columns='Pregunta', \r\n",
    "    values='Respuesta', \r\n",
    "    aggfunc='first').reset_index()\r\n",
    "\r\n",
    "pivot_avanzado = df_avanzado.pivot_table(\r\n",
    "    index=['Nombre', 'Apellido', 'Correo Electrónico', 'Curso', 'ID Asignado Por Moodle', 'Nombre De Usuario'],\r\n",
    "    columns='Pregunta', \r\n",
    "    values='Respuesta', \r\n",
    "    aggfunc='first').reset_index()"
   ]
  },
  {
   "cell_type": "code",
   "execution_count": 4,
   "metadata": {},
   "outputs": [],
   "source": [
    "# Remove \\n in columns\r\n",
    "pivot_inicial.columns = [col.replace(\"\\n\", \" \").strip() \r\n",
    "                        for col in pivot_inicial.columns]\r\n",
    "pivot_avanzado.columns = [col.replace(\"\\n\", \" \").strip() \r\n",
    "                        for col in pivot_avanzado.columns]"
   ]
  },
  {
   "cell_type": "markdown",
   "metadata": {},
   "source": [
    "## Limpieza de datos"
   ]
  },
  {
   "cell_type": "code",
   "execution_count": 5,
   "metadata": {},
   "outputs": [],
   "source": [
    "drop_both = ['Nombre', 'Apellido', 'Correo Electrónico', 'ID Asignado Por Moodle', 'Número de cédula']\r\n",
    "pivot_inicial.drop(columns=drop_both, inplace=True, errors='ignore')\r\n",
    "pivot_avanzado.drop(columns=drop_both, inplace=True, errors='ignore')"
   ]
  },
  {
   "cell_type": "code",
   "execution_count": 6,
   "metadata": {},
   "outputs": [],
   "source": [
    "# Eliminar fila cursed\r\n",
    "\r\n",
    "# pivot_inicial.drop(445, axis=0, inplace=True) # Para v1\r\n",
    "\r\n",
    "pivot_inicial.drop(489, axis=0, inplace=True) # Para v2 (datos actualizados hasta 27 jun)"
   ]
  },
  {
   "cell_type": "code",
   "execution_count": 7,
   "metadata": {},
   "outputs": [],
   "source": [
    "pivot_inicial.to_excel(\"pivot_inicial_satis.xlsx\", index=False, encoding='utf-8-sig')\r\n",
    "pivot_avanzado.to_excel(\"pivot_avanzado_satis.xlsx\", index=False, encoding='utf-8-sig')"
   ]
  },
  {
   "cell_type": "markdown",
   "metadata": {},
   "source": [
    "### Veamos las columnas compartidas"
   ]
  },
  {
   "cell_type": "code",
   "execution_count": 8,
   "metadata": {},
   "outputs": [],
   "source": [
    "# looking for common columns\r\n",
    "#compartidas = set(pivot_inicial.columns).intersection(set(pivot_avanzado.columns))\r\n",
    "#list(compartidas)\r\n",
    "\r\n",
    "compartidas = {\r\n",
    "    'Nombre De Usuario': 'Identificación',\r\n",
    "    '¿Recibí los datos de acceso a la plataforma antes del inicio formal del curso?': '4. ¿Recibí los datos de acceso a la plataforma antes del inicio formal del curso?',\r\n",
    "    '¿La información y las instrucciones para ingresar a la plataforma del curso fueron claras?': '5. ¿La información y las instrucciones para ingresar a la plataforma del curso fueron claras?',\r\n",
    "    'Pude acceder de manera fácil e intuitiva a los contenidos y actividades del curso en la plataforma.': '6. Pude acceder de manera fácil e intuitiva a los contenidos y actividades del curso en la plataforma.',\r\n",
    "    'Cuando lo solicité, obtuve apoyo de la Mesa de Ayuda para resolver mis dificultades con el acceso a la plataforma.': '7. Cuando lo solicité, obtuve apoyo de la Mesa de Ayuda para resolver mis dificultades con el acceso a la plataforma.',\r\n",
    "    'Me siento satisfecho con el apoyo brindado por la Mesa de Ayuda.': '8. Me siento satisfecho con el apoyo brindado por la Mesa de Ayuda.',\r\n",
    "    '¿Tiene alguna sugerencia para mejorar el servicio que presta la plataforma del curso y/o la Mesa de Ayuda? (opcional)': '9. ¿Tiene alguna sugerencia para mejorar el servicio que presta la plataforma del curso y/o la Mesa de Ayuda? (opcional)',\r\n",
    "    # OJO: Pregunta 10 tiene diferentes opciones para inicial y avanzado\r\n",
    "    'Por favor evalúe cada una de las fichas de la formación del 1 al 10, según su nivel de dificultad (10 es muy difícil)': '10. Por favor evalúe cada una de las fichas de la formación del 1 al 10, según su nivel de dificultad (10 es muy difícil)',\r\n",
    "    # OJO: Pregunta 11 tiene diferentes opciones para inicial y avanzado\r\n",
    "    'Por favor evalúe cada una de las fichas de la formación del 1 al 10, según su nivel de pertinencia (10 es muy pertinente)': '11. Por favor evalúe cada una de las fichas de la formación del 1 al 10, según su nivel de pertinencia (10 es muy pertinente)',\r\n",
    "    'Agrega cualquier retroalimentación adicional que debamos considerar sobre las fichas (opcional)': '12. Agrega cualquier retroalimentación adicional que debamos considerar sobre las fichas (opcional)',\r\n",
    "    'El lenguaje que se utiliza en los textos y videos de contenidos es claro y de fácil comprensión.': '13. El lenguaje que se utiliza en los textos y videos de contenidos es claro y de fácil comprensión.',\r\n",
    "    'La cantidad de contenidos (videos y materiales de lectura) publicados en la plataforma cada semana, es adecuada.': '14. La cantidad de contenidos (videos y materiales de lectura) publicados en la plataforma cada semana, es adecuada.',\r\n",
    "    'El número de tareas que se asignan para desarrollar cada semana es apropiado.': '15. El número de tareas que se asignan para desarrollar cada semana es apropiado.',\r\n",
    "    'Considero que lo que he aprendido en el curso, lo puedo aplicar fácilmente en mi contexto de enseñanza/aprendizaje.': '16. Considero que lo que he aprendido en el curso, lo puedo aplicar fácilmente en mi contexto de enseñanza/aprendizaje.',\r\n",
    "    'Los materiales y actividades del programa se adaptan a mi experiencia y conocimientos previos.': '18. Los materiales y actividades del programa se adaptan a mi experiencia y conocimientos previos.',\r\n",
    "    '¿Con qué frecuencia, en una escala de 1-10 (donde 10 es siempre), los siguientes componentes del programa contribuyeron a que usted pudiera aprender y desarrollar habilidades?': '19. ¿Con qué frecuencia, en una escala de 1-10 (donde 10 es siempre), los siguientes componentes del programa contribuyeron a que usted pudiera aprender y desarrollar habilidades?',\r\n",
    "    'En una escala de 1-10 (donde 1 es nada pertinente y 10 es muy pertinente), que nivel refleja mejor su percepción sobre la pertinencia de los contenidos abordados durante la formación en su labor como docente:': '20. En una escala de 1-10 (donde 1 es nada pertinente y 10 es muy pertinente), que nivel refleja mejor su percepción sobre la pertinencia de los contenidos abordados durante la formación en su labor como docente:',\r\n",
    "    'De acuerdo con su respuesta anterior, explique su percepción sobre la pertinencia de los contenidos abordados durante la formación en su labor como docente': '21. De acuerdo con su respuesta anterior, explique su percepción sobre la pertinencia de los contenidos abordados durante la formación en su labor como docente',\r\n",
    "    '¿En total cuánto tiempo dedicó semanalmente para desarrollar las actividades de formación (conectadas y desconectadas)? (respuesta restringida solamente a números)': '22. ¿En total cuánto tiempo dedicó semanalmente para desarrollar las actividades de formación (conectadas y desconectadas)? (respuesta restringida solamente a números)',\r\n",
    "    '¿Tiene alguna sugerencia para mejorar los contenidos y/o actividades propuestas? (opcional)': '23. ¿Tiene alguna sugerencia para mejorar los contenidos y/o actividades propuestas? (opcional)',\r\n",
    "    'Los encuentros sincrónicos comenzaron y finalizaron puntualmente.': '24. Los encuentros sincrónicos comenzaron y finalizaron puntualmente.',\r\n",
    "    'Me sentí motivado(a) a asistir a los encuentros sincrónicos.': '25. Me sentí motivado(a) a asistir a los encuentros sincrónicos.',\r\n",
    "    'Considero que las asesorías, los contenidos y actividades desarrolladas  durante los encuentros sincrónicos fueron apropiadas para el curso que  estoy haciendo.': '26. Considero que las asesorías, los contenidos y actividades desarrolladas  durante los encuentros sincrónicos fueron apropiadas para el curso que estoy haciendo.',\r\n",
    "    '¿Tiene alguna sugerencia para mejorar los encuentros sincrónicos? (opcional)': '28. ¿Tiene alguna sugerencia para mejorar los encuentros sincrónicos? (opcional)',\r\n",
    "    'Eliga una opción por pregunta, por favor.': '29. Elija una opción por pregunta, por favor.',\r\n",
    "    '¿Tiene alguna sugerencia para mejorar el acompañamiento que el/la mentor(a) le brinda a sus docentes durante el curso? (opcional)': '30. ¿Tiene alguna sugerencia para mejorar el acompañamiento que el/la mentor(a) le brinda a sus docentes durante el curso? (opcional)',\r\n",
    "    'El tipo de formación se adapta a mi forma de aprender.': '31. El tipo de formación se adapta a mi forma de aprender.',\r\n",
    "    'Considero que los conocimientos y materiales adquiridos durante el programa son relevantes para mi trabajo como docente.': '32. Considero que los conocimientos y materiales adquiridos durante el programa son relevantes para mi trabajo como docente.',\r\n",
    "    'Considero que los recursos de internet y equipos con los que cuento fueron suficientes para participar en las actividades del curso.': '33. Considero que los recursos de internet y equipos con los que cuento fueron suficientes para participar en las actividades del curso.',\r\n",
    "    'Pude comprender los contenidos o materiales del curso sin mayores dificultades.': '34. Pude comprender los contenidos o materiales del curso sin mayores dificultades.',\r\n",
    "    'Pude realizar las actividades del curso sin mayores dificultades.': '35. Pude realizar las actividades del curso sin mayores dificultades.',\r\n",
    "    'Pude disponer, cabalmente, del tiempo semanal requerido para desarrollar las actividades propuestas de forma adecuada.': '36. Pude disponer, cabalmente, del tiempo semanal requerido para desarrollar las actividades propuestas de forma adecuada.',\r\n",
    "    'Lea con atención las declaraciones y luego elija la opción que mejor refleje su punto de vista en cada caso.': '37. Lea con atención las declaraciones y luego elija la opción que mejor refleje su punto de vista en cada caso.',\r\n",
    "    '¿Cuál cree que fue la mayor fortaleza del curso de formación? Describa aspectos relacionados con los contenidos, los encuentros sincrónicos, las tutorías, el acompañamiento de los mentores, los talleres, etc': '38. ¿Cuál cree que fue la mayor fortaleza del curso de formación? Describa aspectos relacionados con los contenidos, los encuentros sincrónicos, las tutorías, el acompañamiento de los mentores, los talleres, etc',\r\n",
    "    '¿Cuál cree que fue la mayor debilidad del curso de formación? Describa aspectos relacionados con los contenidos, los encuentros sincrónicos, las tutorías, el acompañamiento de los mentores, los talleres, etc': '39. ¿Cuál cree que fue la mayor debilidad del curso de formación? Describa aspectos relacionados con los contenidos, los encuentros sincrónicos, las tutorías, el acompañamiento de los mentores, los talleres, etc',\r\n",
    "    '¿Qué aspectos de la formación cree que deberían eliminarse o cambiarse? (describa aspectos relacionados con los contenidos, los encuentros sincrónicos, las tutorías, el acompañamiento de los mentores, los talleres, etc.)': '40. ¿Qué aspectos de la formación cree que deberían eliminarse o cambiarse? (describa aspectos relacionados con los contenidos, los encuentros sincrónicos, las tutorías, el acompañamiento de los mentores, los talleres, etc.)',\r\n",
    "    'En una escala del 1 al 10 siendo 1 muy poco probable y 10 muy probable ¿Cuál es la probabilidad de que recomiende el British Council a un amigo o colega?': '41. En una escala del 1 al 10 siendo 1 muy poco probable y 10 muy probable ¿Cuál es la probabilidad de que recomiende el British Council a un amigo o colega?',\r\n",
    "    'De acuerdo con su experiencia en el programa Coding For Kids en una escala del 1 al 5 siendo 1 el grado más bajo y 5 el más alto, ¿en qué medida ha cambiado su percepción favorable sobre el Reino Unido?': '42. De acuerdo con su experiencia en el programa Coding For Kids en una escala del 1 al 5 siendo 1 el grado más bajo y 5 el más alto, ¿en qué medida ha cambiado su percepción favorable sobre el Reino Unido?',\r\n",
    "    '¿Qué estrategias y herramientas ha aprendido durante su formación en el proyecto Coding for kids para la implementación de una educación inclusiva y de calidad?': '43. ¿Qué estrategias y herramientas ha aprendido durante su formación en el proyecto Coding for kids para la implementación de una educación inclusiva y de calidad?',\r\n",
    "    'Además del programa Coding for Kids ¿En qué actividades ha participado que le permitan fomentar e implementar una educación inclusiva y de calidad?': '44. Además del programa Coding for Kids ¿En qué actividades ha participado que le permitan fomentar e implementar una educación inclusiva y de calidad?',\r\n",
    "    'Agradecemos sus comentarios con relación a si logramos cumplir o no con sus expectativas y en cuanto a la calidad del servicio recibido. (opcional)': '45. Agradecemos sus comentarios con relación a si logramos cumplir o no con sus expectativas y en cuanto a la calidad del servicio recibido. (opcional)',\r\n",
    "}"
   ]
  },
  {
   "cell_type": "code",
   "execution_count": 9,
   "metadata": {},
   "outputs": [],
   "source": [
    "inicial = {\r\n",
    "    'Los contenidos y actividades del curso me brindaron herramientas básicas para empezar a desarrollar el pensamiento computacional': '17. Los contenidos y actividades del curso me brindaron herramientas básicas para empezar a desarrollar el pensamiento computacional',\r\n",
    "    'los encuentros sincrónicos fueron desarrollados en forma clara y ordenada.': '27. Los encuentros sincrónicos fueron desarrollados en forma clara y ordenada.'\r\n",
    "}\r\n",
    "\r\n",
    "avanzado = {\r\n",
    "    'Los contenidos y actividades del curso me brindaron herramientas más avanzadas para desarrollar el pensamiento computacional de mis estudiantes.': '17. Los contenidos y actividades del curso me brindaron herramientas más avanzadas para desarrollar el pensamiento computacional de mis estudiantes.',\r\n",
    "    'Los encuentros sincrónicos fueron desarrollados en forma clara y ordenada.': '27. Los encuentros sincrónicos fueron desarrollados en forma clara y ordenada.'\r\n",
    "}"
   ]
  },
  {
   "cell_type": "code",
   "execution_count": 10,
   "metadata": {},
   "outputs": [],
   "source": [
    "# Arregar estas columnas \r\n",
    "col = \"¿En total cuánto tiempo dedicó semanalmente para desarrollar las actividades de formación (conectadas y desconectadas)? (respuesta restringida solamente a números)\"\r\n",
    "col_aux = \"¿En total cuánto tiempo (en horas) dedicó semanalmente para desarrollar las actividades de formación (conectadas y desconectadas)? (respuesta restringida solamente a números)\"\r\n"
   ]
  },
  {
   "cell_type": "code",
   "execution_count": 11,
   "metadata": {},
   "outputs": [
    {
     "name": "stdout",
     "output_type": "stream",
     "text": [
      "<class 'pandas.core.frame.DataFrame'>\n",
      "Int64Index: 4179 entries, 0 to 4179\n",
      "Data columns (total 1 columns):\n",
      " #   Column                                                                                                                                                               Non-Null Count  Dtype \n",
      "---  ------                                                                                                                                                               --------------  ----- \n",
      " 0   ¿En total cuánto tiempo dedicó semanalmente para desarrollar las actividades de formación (conectadas y desconectadas)? (respuesta restringida solamente a números)  4131 non-null   object\n",
      "dtypes: object(1)\n",
      "memory usage: 65.3+ KB\n"
     ]
    }
   ],
   "source": [
    "pivot_inicial[col].to_frame().info()"
   ]
  },
  {
   "cell_type": "code",
   "execution_count": 12,
   "metadata": {},
   "outputs": [],
   "source": [
    "df_col = pivot_inicial.loc[:, col].to_frame()\r\n",
    "df_aux = pivot_inicial.loc[:, col_aux].to_frame().rename(columns={col_aux: col})\r\n",
    "pivot_inicial[col] = df_col.combine_first(df_aux)[col]\r\n",
    "\r\n",
    "pivot_inicial.drop(columns=col_aux, inplace=True)"
   ]
  },
  {
   "cell_type": "code",
   "execution_count": 13,
   "metadata": {},
   "outputs": [
    {
     "name": "stdout",
     "output_type": "stream",
     "text": [
      "<class 'pandas.core.frame.DataFrame'>\n",
      "Int64Index: 4179 entries, 0 to 4179\n",
      "Data columns (total 1 columns):\n",
      " #   Column                                                                                                                                                               Non-Null Count  Dtype \n",
      "---  ------                                                                                                                                                               --------------  ----- \n",
      " 0   ¿En total cuánto tiempo dedicó semanalmente para desarrollar las actividades de formación (conectadas y desconectadas)? (respuesta restringida solamente a números)  4177 non-null   object\n",
      "dtypes: object(1)\n",
      "memory usage: 65.3+ KB\n"
     ]
    }
   ],
   "source": [
    "pivot_inicial[col].to_frame().info()"
   ]
  },
  {
   "cell_type": "markdown",
   "metadata": {},
   "source": [
    "Se pasan de 3705 a 3746 valores no nulos. 😎\r\n",
    "\r\n",
    "\r\n",
    "Para los datos actualizados hasta el 27 de jun:\r\n",
    "\r\n",
    "    Se pasan de 4131 a 4177 valores no nulos. 😎"
   ]
  },
  {
   "cell_type": "code",
   "execution_count": 14,
   "metadata": {},
   "outputs": [],
   "source": [
    "pivot_inicial.rename(columns=compartidas, inplace=True)\r\n",
    "pivot_inicial.rename(columns=inicial, inplace=True)\r\n",
    "pivot_inicial.to_excel('pivot_inicial_renamed.xlsx', index=False, encoding='utf-8-sig')\r\n",
    "\r\n",
    "pivot_avanzado.rename(columns=compartidas, inplace=True)\r\n",
    "pivot_avanzado.rename(columns=inicial, inplace=True)\r\n",
    "pivot_avanzado.to_excel('pivot_avanzado_renamed.xlsx', index=False, encoding='utf-8-sig')\r\n"
   ]
  },
  {
   "cell_type": "markdown",
   "metadata": {},
   "source": [
    "## Limpieza por pregunta"
   ]
  },
  {
   "cell_type": "code",
   "execution_count": 15,
   "metadata": {},
   "outputs": [],
   "source": [
    "def add_columns(df1, df2):\r\n",
    "    for col in df2.columns:\r\n",
    "        df1[col] = df2[col]\r\n",
    "\r\n",
    "de_acuerdo= {\r\n",
    "    1: 'Totalmente en desacuerdo', \r\n",
    "    2: 'En desacuerdo',\r\n",
    "    3: 'Neutro',\r\n",
    "    4: 'De acuerdo',\r\n",
    "    5: 'Totalmente de acuerdo'\r\n",
    "}"
   ]
  },
  {
   "cell_type": "code",
   "execution_count": 16,
   "metadata": {},
   "outputs": [
    {
     "name": "stdout",
     "output_type": "stream",
     "text": [
      "(4179, 46)\n",
      "(4179, 50)\n"
     ]
    }
   ],
   "source": [
    "## Pregunta 10 inicial\r\n",
    "col = \"10. Por favor evalúe cada una de las fichas de la formación del 1 al 10, según su nivel de dificultad (10 es muy difícil)\"\r\n",
    "df_res = pivot_inicial[col].str.split(r'\\b\\D+\\b', expand=True)\r\n",
    "df_res\r\n",
    "df_res.rename({\r\n",
    "    2: '10.1 Ficha 0: Orientaciones',\r\n",
    "    4: '10.2 Ficha 1: Luces y Códigos',\r\n",
    "    6: '10.3 Ficha 2: Salvando las Tortugas',\r\n",
    "    8: '10.4 Ficha 3: Expedición espeleológica',\r\n",
    "    10: '10.5 Ficha 4: Incertidumbre cierta'\r\n",
    "}, axis=1, inplace=True)\r\n",
    "df_res.drop([0, 1, 3, 5, 7, 9], axis=1, inplace=True)\r\n",
    "print(pivot_inicial.shape)\r\n",
    "add_columns(pivot_inicial, df_res)\r\n",
    "pivot_inicial.drop(columns=col, inplace=True)\r\n",
    "print(pivot_inicial.shape)"
   ]
  },
  {
   "cell_type": "code",
   "execution_count": 17,
   "metadata": {},
   "outputs": [
    {
     "name": "stdout",
     "output_type": "stream",
     "text": [
      "(772, 46)\n",
      "(772, 50)\n"
     ]
    }
   ],
   "source": [
    "## Pregunta 10 avanzado\r\n",
    "col = \"10. Por favor evalúe cada una de las fichas de la formación del 1 al 10, según su nivel de dificultad (10 es muy difícil)\"\r\n",
    "df_res = pivot_avanzado[col].str.split(r'\\b\\D+\\b', expand=True)\r\n",
    "df_res\r\n",
    "df_res.rename({\r\n",
    "    2: '10.1 Ficha 0: Orientaciones',\r\n",
    "    4: '10.2 Ficha 7: Misión a Marte',\r\n",
    "    6: '10.3 Ficha 8: Invernaderos',\r\n",
    "    8: '10.4 Ficha 9: Computación y virus',\r\n",
    "    10: '10.5 Ficha 10: Un algoritmo para ir a la escuela'\r\n",
    "}, axis=1, inplace=True)\r\n",
    "df_res.drop([0, 1, 3, 5, 7, 9], axis=1, inplace=True)\r\n",
    "print(pivot_avanzado.shape)\r\n",
    "add_columns(pivot_avanzado, df_res)\r\n",
    "pivot_avanzado.drop(columns=col, inplace=True)\r\n",
    "print(pivot_avanzado.shape)"
   ]
  },
  {
   "cell_type": "code",
   "execution_count": 18,
   "metadata": {},
   "outputs": [
    {
     "name": "stdout",
     "output_type": "stream",
     "text": [
      "(4179, 50)\n",
      "(4179, 54)\n"
     ]
    }
   ],
   "source": [
    "## Pregunta 11 inicial\r\n",
    "col = \"11. Por favor evalúe cada una de las fichas de la formación del 1 al 10, según su nivel de pertinencia (10 es muy pertinente)\"\r\n",
    "df_res = pivot_inicial[col].str.split(r'\\b\\D+\\b', expand=True)\r\n",
    "df_res\r\n",
    "df_res.rename({\r\n",
    "    2: '11.1 Ficha 0: Orientaciones',\r\n",
    "    4: '11.2 Ficha 1: Luces y Códigos',\r\n",
    "    6: '11.3 Ficha 2: Salvando las Tortugas',\r\n",
    "    8: '11.4 Ficha 3: Expedición espeleológica',\r\n",
    "    10: '11.5 Ficha 4: Incertidumbre cierta'\r\n",
    "}, axis=1, inplace=True)\r\n",
    "df_res.drop([0, 1, 3, 5, 7, 9], axis=1, inplace=True)\r\n",
    "print(pivot_inicial.shape)\r\n",
    "add_columns(pivot_inicial, df_res)\r\n",
    "pivot_inicial.drop(columns=col, inplace=True)\r\n",
    "print(pivot_inicial.shape)"
   ]
  },
  {
   "cell_type": "code",
   "execution_count": 19,
   "metadata": {},
   "outputs": [
    {
     "name": "stdout",
     "output_type": "stream",
     "text": [
      "(772, 50)\n",
      "(772, 54)\n"
     ]
    }
   ],
   "source": [
    "## Pregunta 11 avanzado\r\n",
    "col = \"11. Por favor evalúe cada una de las fichas de la formación del 1 al 10, según su nivel de pertinencia (10 es muy pertinente)\"\r\n",
    "df_res = pivot_avanzado[col].str.split(r'\\b\\D+\\b', expand=True)\r\n",
    "df_res\r\n",
    "df_res.rename({\r\n",
    "    2: '11.1 Ficha 0: Orientaciones',\r\n",
    "    4: '11.2 Ficha 7: Misión a Marte',\r\n",
    "    6: '11.3 Ficha 8: Invernaderos',\r\n",
    "    8: '11.4 Ficha 9: Computación y virus',\r\n",
    "    10: '11.5 Ficha 10: Un algoritmo para ir a la escuela'\r\n",
    "}, axis=1, inplace=True)\r\n",
    "df_res.drop([0, 1, 3, 5, 7, 9], axis=1, inplace=True)\r\n",
    "print(pivot_avanzado.shape)\r\n",
    "add_columns(pivot_avanzado, df_res)\r\n",
    "pivot_avanzado.drop(columns=col, inplace=True)\r\n",
    "print(pivot_avanzado.shape)"
   ]
  },
  {
   "cell_type": "code",
   "execution_count": 20,
   "metadata": {},
   "outputs": [
    {
     "name": "stdout",
     "output_type": "stream",
     "text": [
      "(4179, 54)\n",
      "(4179, 62)\n"
     ]
    }
   ],
   "source": [
    "## Pregunta 19 inicial\r\n",
    "col = \"19. ¿Con qué frecuencia, en una escala de 1-10 (donde 10 es siempre), los siguientes componentes del programa contribuyeron a que usted pudiera aprender y desarrollar habilidades?\"\r\n",
    "df_res = pivot_inicial[col].str.split(r'\\b\\D+\\b', expand=True)\r\n",
    "df_res\r\n",
    "df_res.rename({\r\n",
    "    1: '19.1 Videos',\r\n",
    "    2: '19.2 Fichas Didácticas',\r\n",
    "    3: '19.3 Mentores',\r\n",
    "    4: '19.4 Foros de Contenido',\r\n",
    "    5: '19.5 Foros Taller',\r\n",
    "    6: '19.6 Evidencias de Implementación docentes (wiki)',\r\n",
    "    7: '19.7 Evidencias de Implementación Estudiantes (foro)',\r\n",
    "    8: '19.8 Foros de interacción con otros participantes',\r\n",
    "    9: '19.9 Los demás participantes',\r\n",
    "}, axis=1, inplace=True)\r\n",
    "df_res.drop([0], axis=1, inplace=True)\r\n",
    "print(pivot_inicial.shape)\r\n",
    "add_columns(pivot_inicial, df_res)\r\n",
    "pivot_inicial.drop(columns=col, inplace=True)\r\n",
    "print(pivot_inicial.shape)"
   ]
  },
  {
   "cell_type": "code",
   "execution_count": 21,
   "metadata": {},
   "outputs": [
    {
     "name": "stdout",
     "output_type": "stream",
     "text": [
      "(772, 54)\n",
      "(772, 62)\n"
     ]
    }
   ],
   "source": [
    "## Pregunta 19 avanzado\r\n",
    "col = \"19. ¿Con qué frecuencia, en una escala de 1-10 (donde 10 es siempre), los siguientes componentes del programa contribuyeron a que usted pudiera aprender y desarrollar habilidades?\"\r\n",
    "df_res = pivot_avanzado[col].str.split(r'\\b\\D+\\b', expand=True)\r\n",
    "df_res\r\n",
    "df_res.rename({\r\n",
    "    1: '19.1 Videos',\r\n",
    "    2: '19.2 Fichas Didácticas',\r\n",
    "    3: '19.3 Mentores',\r\n",
    "    4: '19.4 Foros de Contenido',\r\n",
    "    5: '19.5 Foros Taller',\r\n",
    "    6: '19.6 Evidencias de Implementación docentes (wiki)',\r\n",
    "    7: '19.7 Evidencias de Implementación Estudiantes (foro)',\r\n",
    "    8: '19.8 Foros de interacción con otros participantes',\r\n",
    "    9: '19.9 Los demás participantes',\r\n",
    "}, axis=1, inplace=True)\r\n",
    "df_res.drop([0], axis=1, inplace=True)\r\n",
    "print(pivot_avanzado.shape)\r\n",
    "add_columns(pivot_avanzado, df_res)\r\n",
    "pivot_avanzado.drop(columns=col, inplace=True)\r\n",
    "print(pivot_avanzado.shape)"
   ]
  },
  {
   "cell_type": "code",
   "execution_count": 22,
   "metadata": {},
   "outputs": [
    {
     "name": "stdout",
     "output_type": "stream",
     "text": [
      "(4179, 62)\n",
      "(4179, 70)\n"
     ]
    }
   ],
   "source": [
    "## Pregunta 29 inicial\r\n",
    "col = \"29. Elija una opción por pregunta, por favor.\"\r\n",
    "df_res = pivot_inicial[col].str.split(r'\\b\\D+\\b', expand=True)\r\n",
    "df_res.iloc[:, 1:] = df_res.iloc[:, 1:].astype(int).replace(de_acuerdo)\r\n",
    "\r\n",
    "df_res\r\n",
    "df_res.rename({\r\n",
    "    1: '29.1 La retroalimentación recibida por parte del/de la mentor(a) fue relevante',\r\n",
    "    2: '29.2 El/La mentor(a) resolvía las dudas de los participantes de manera adecuada en los foros de discusión y en las sesiones sincrónicas',\r\n",
    "    3: '29.3 El/La mentor(a) tuvo en cuenta los diferentes niveles de experiencia y habilidad de los participantes para el desarrollo de las sesiones sincrónicas',\r\n",
    "    4: '29.4 El/La mentor(a) demostraba suficiencia y preparación para el desarrollo de las sesiones',\r\n",
    "    5: '29.5 El acompañamiento realizado por el/la mentor(a) fue adecuado, pues considero que estuvo atento(a) a resolver mis dudas y dificultades',\r\n",
    "    6: '29.6 Me siento satisfecho con el tiempo empleado por el/la mentor(a) en los espacios de interacción y retroalimentación.',\r\n",
    "    7: '29.7 La retroalimentación que el/la mentor(a) me ha dado es útil y acorde a los requerimientos del curso.',\r\n",
    "    8: '29.8 Gracias al acompañamiento de mi mentor(a) he podido superar dificultades con los temas y actividades propuestos en las fichas, que por mi mismo(a) no habría superado.',\r\n",
    "    9: '29.9 Gracias al acompañamiento de mi mentor(a) me siento inspirado(a) para hacer cambios en mi práctica pedagógica.',\r\n",
    "}, axis=1, inplace=True)\r\n",
    "df_res.drop([0], axis=1, inplace=True)\r\n",
    "\r\n",
    "\r\n",
    "print(pivot_inicial.shape)\r\n",
    "add_columns(pivot_inicial, df_res)\r\n",
    "pivot_inicial.drop(columns=col, inplace=True)\r\n",
    "print(pivot_inicial.shape)\r\n",
    "\r\n"
   ]
  },
  {
   "cell_type": "code",
   "execution_count": 23,
   "metadata": {},
   "outputs": [
    {
     "name": "stdout",
     "output_type": "stream",
     "text": [
      "(772, 62)\n",
      "(772, 70)\n"
     ]
    }
   ],
   "source": [
    "## Pregunta 29 avanzado\r\n",
    "col = \"29. Elija una opción por pregunta, por favor.\"\r\n",
    "df_res = pivot_avanzado[col].str.split(r'\\b\\D+\\b', expand=True)\r\n",
    "df_res.iloc[:, 1:] = df_res.iloc[:, 1:].astype(int).replace(de_acuerdo)\r\n",
    "df_res\r\n",
    "df_res.rename({\r\n",
    "    1: '29.1 La retroalimentación recibida por parte del/de la mentor(a) fue relevante',\r\n",
    "    2: '29.2 El/La mentor(a) resolvía las dudas de los participantes de manera adecuada en los foros de discusión y en las sesiones sincrónicas',\r\n",
    "    3: '29.3 El/La mentor(a) tuvo en cuenta los diferentes niveles de experiencia y habilidad de los participantes para el desarrollo de las sesiones sincrónicas',\r\n",
    "    4: '29.4 El/La mentor(a) demostraba suficiencia y preparación para el desarrollo de las sesiones',\r\n",
    "    5: '29.5 El acompañamiento realizado por el/la mentor(a) fue adecuado, pues considero que estuvo atento(a) a resolver mis dudas y dificultades',\r\n",
    "    6: '29.6 Me siento satisfecho con el tiempo empleado por el/la mentor(a) en los espacios de interacción y retroalimentación.',\r\n",
    "    7: '29.7 La retroalimentación que el/la mentor(a) me ha dado es útil y acorde a los requerimientos del curso.',\r\n",
    "    8: '29.8 Gracias al acompañamiento de mi mentor(a) he podido superar dificultades con los temas y actividades propuestos en las fichas, que por mi mismo(a) no habría superado.',\r\n",
    "    9: '29.9 Gracias al acompañamiento de mi mentor(a) me siento inspirado(a) para hacer cambios en mi práctica pedagógica.',\r\n",
    "}, axis=1, inplace=True)\r\n",
    "df_res.drop([0], axis=1, inplace=True)\r\n",
    "\r\n",
    "\r\n",
    "print(pivot_avanzado.shape)\r\n",
    "add_columns(pivot_avanzado, df_res)\r\n",
    "pivot_avanzado.drop(columns=col, inplace=True)\r\n",
    "print(pivot_avanzado.shape)\r\n",
    "\r\n"
   ]
  },
  {
   "cell_type": "code",
   "execution_count": 24,
   "metadata": {},
   "outputs": [
    {
     "name": "stdout",
     "output_type": "stream",
     "text": [
      "(4179, 70)\n",
      "(4179, 82)\n"
     ]
    }
   ],
   "source": [
    "## Pregunta 37 inicial\r\n",
    "col = \"37. Lea con atención las declaraciones y luego elija la opción que mejor refleje su punto de vista en cada caso.\"\r\n",
    "df_res = pivot_inicial[col].str.split(r'\\b\\D+\\b', expand=True)\r\n",
    "df_res.iloc[:, 1:] = df_res.iloc[:, 1:].astype(int).replace(de_acuerdo)\r\n",
    "df_res\r\n",
    "df_res.rename({\r\n",
    "    1:   '37.1 Este curso cumplió con mis expectativas.',\r\n",
    "    2:   '37.2 Este curso fue de buena calidad.',\r\n",
    "    3:   '37.3 Adquirí nuevos conocimientos y/o habilidades por haber participado en este curso.',\r\n",
    "    4:   '37.4 Los objetivos del programa se lograron.',\r\n",
    "    5:   '37.5 Los materiales y actividades del curso fueron suficientes para alcanzar los objetivos propuestos.',\r\n",
    "    6:   '37.6 Haber participado en el programa me ha motivado a buscar más información por mi propia cuenta.',\r\n",
    "    7:   '37.7 El tiempo es adecuado para desarrollar las sesiones y las actividades propuestas.',\r\n",
    "    8:   '37.8 El programa de formación tiene en cuenta las necesidades de capacitación y formación de los y las docentes que participamos.',\r\n",
    "    9:   '37.9 Recomendaría este programa de formación a otros colegas docentes.',\r\n",
    "    10: '37.10 Es gratificante participar en los proyectos impulsados por el British Council.',\r\n",
    "    11: '37.11 Los esfuerzos realizados por el British Council a través de este tipo de proyectos son pertinentes para la educación en Colombia.',\r\n",
    "    12: '37.12 Considero que el British Council se esfuerza por el fortalecimiento de la educación y la pedagogía en el país.',\r\n",
    "    13: '37.13 Considero que Reino Unido está comprometido por el mejoramiento de la educación de las personas.',\r\n",
    "}, axis=1, inplace=True)\r\n",
    "df_res.drop([0], axis=1, inplace=True)\r\n",
    "print(pivot_inicial.shape)\r\n",
    "add_columns(pivot_inicial, df_res)\r\n",
    "pivot_inicial.drop(columns=col, inplace=True)\r\n",
    "print(pivot_inicial.shape)"
   ]
  },
  {
   "cell_type": "code",
   "execution_count": 25,
   "metadata": {},
   "outputs": [
    {
     "name": "stdout",
     "output_type": "stream",
     "text": [
      "(772, 70)\n",
      "(772, 82)\n"
     ]
    }
   ],
   "source": [
    "## Pregunta 37 avanzado\r\n",
    "col = \"37. Lea con atención las declaraciones y luego elija la opción que mejor refleje su punto de vista en cada caso.\"\r\n",
    "df_res = pivot_avanzado[col].str.split(r'\\b\\D+\\b', expand=True)\r\n",
    "df_res.iloc[:, 1:] = df_res.iloc[:, 1:].astype(int).replace(de_acuerdo)\r\n",
    "df_res\r\n",
    "df_res.rename({\r\n",
    "    1:   '37.1 Este curso cumplió con mis expectativas.',\r\n",
    "    2:   '37.2 Este curso fue de buena calidad.',\r\n",
    "    3:   '37.3 Adquirí nuevos conocimientos y/o habilidades por haber participado en este curso.',\r\n",
    "    4:   '37.4 Los objetivos del programa se lograron.',\r\n",
    "    5:   '37.5 Los materiales y actividades del curso fueron suficientes para alcanzar los objetivos propuestos.',\r\n",
    "    6:   '37.6 Haber participado en el programa me ha motivado a buscar más información por mi propia cuenta.',\r\n",
    "    7:   '37.7 El tiempo es adecuado para desarrollar las sesiones y las actividades propuestas.',\r\n",
    "    8:   '37.8 El programa de formación tiene en cuenta las necesidades de capacitación y formación de los y las docentes que participamos.',\r\n",
    "    9:   '37.9 Recomendaría este programa de formación a otros colegas docentes.',\r\n",
    "    10: '37.10 Es gratificante participar en los proyectos impulsados por el British Council.',\r\n",
    "    11: '37.11 Los esfuerzos realizados por el British Council a través de este tipo de proyectos son pertinentes para la educación en Colombia.',\r\n",
    "    12: '37.12 Considero que el British Council se esfuerza por el fortalecimiento de la educación y la pedagogía en el país.',\r\n",
    "    13: '37.13 Considero que Reino Unido está comprometido por el mejoramiento de la educación de las personas.',\r\n",
    "}, axis=1, inplace=True)\r\n",
    "df_res.drop([0], axis=1, inplace=True)\r\n",
    "print(pivot_avanzado.shape)\r\n",
    "add_columns(pivot_avanzado, df_res)\r\n",
    "pivot_avanzado.drop(columns=col, inplace=True)\r\n",
    "print(pivot_avanzado.shape)"
   ]
  },
  {
   "cell_type": "code",
   "execution_count": 26,
   "metadata": {},
   "outputs": [],
   "source": [
    "pivot_inicial.to_excel('enc_satisfaccion_inicial_v2.xlsx', index=False, encoding='utf-8-sig')\r\n",
    "pivot_avanzado.to_excel('enc_satisfaccion_avanzado_v2.xlsx', index=False, encoding='utf-8-sig')"
   ]
  }
 ],
 "metadata": {
  "interpreter": {
   "hash": "692960185e917d6b97187268af236b149a77acc75297ed3b13647897eb28ef89"
  },
  "kernelspec": {
   "display_name": "Python 3.8.9 64-bit ('venv': venv)",
   "name": "python3"
  },
  "language_info": {
   "codemirror_mode": {
    "name": "ipython",
    "version": 3
   },
   "file_extension": ".py",
   "mimetype": "text/x-python",
   "name": "python",
   "nbconvert_exporter": "python",
   "pygments_lexer": "ipython3",
   "version": "3.8.9"
  },
  "orig_nbformat": 4
 },
 "nbformat": 4,
 "nbformat_minor": 2
}