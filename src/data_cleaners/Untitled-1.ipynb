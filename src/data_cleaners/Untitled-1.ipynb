{
 "metadata": {
  "language_info": {
   "codemirror_mode": {
    "name": "ipython",
    "version": 3
   },
   "file_extension": ".py",
   "mimetype": "text/x-python",
   "name": "python",
   "nbconvert_exporter": "python",
   "pygments_lexer": "ipython3",
   "version": "3.8.9"
  },
  "orig_nbformat": 2,
  "kernelspec": {
   "name": "python389jvsc74a57bd08b871feec6dacb11e12288c50ceacb4b4a23898d776ee30bcc1bfd476e9f6d7d",
   "display_name": "Python 3.8.9 64-bit ('venv': venv)"
  }
 },
 "nbformat": 4,
 "nbformat_minor": 2,
 "cells": [
  {
   "cell_type": "code",
   "execution_count": 4,
   "metadata": {},
   "outputs": [],
   "source": [
    "import pandas as pd"
   ]
  },
  {
   "cell_type": "code",
   "execution_count": 14,
   "metadata": {},
   "outputs": [
    {
     "output_type": "stream",
     "name": "stderr",
     "text": [
      "b'Skipping line 362: expected 11 fields, saw 14\\nSkipping line 1230: expected 11 fields, saw 13\\nSkipping line 6066: expected 11 fields, saw 14\\nSkipping line 9654: expected 11 fields, saw 14\\nSkipping line 10104: expected 11 fields, saw 27\\nSkipping line 17854: expected 11 fields, saw 15\\nSkipping line 23799: expected 11 fields, saw 12\\nSkipping line 30716: expected 11 fields, saw 12\\nSkipping line 31287: expected 11 fields, saw 27\\nSkipping line 37431: expected 11 fields, saw 14\\nSkipping line 42418: expected 11 fields, saw 12\\nSkipping line 43856: expected 11 fields, saw 12\\nSkipping line 44548: expected 11 fields, saw 12\\nSkipping line 46495: expected 11 fields, saw 19\\nSkipping line 46967: expected 11 fields, saw 18\\nSkipping line 47195: expected 11 fields, saw 12\\nSkipping line 52076: expected 11 fields, saw 12\\nSkipping line 55414: expected 11 fields, saw 12\\nSkipping line 57579: expected 11 fields, saw 13\\n'\n",
      "b'Skipping line 66505: expected 11 fields, saw 13\\nSkipping line 74702: expected 11 fields, saw 12\\nSkipping line 79932: expected 11 fields, saw 12\\nSkipping line 91418: expected 11 fields, saw 17\\nSkipping line 91586: expected 11 fields, saw 13\\nSkipping line 92305: expected 11 fields, saw 13\\nSkipping line 98018: expected 11 fields, saw 22\\nSkipping line 99856: expected 11 fields, saw 14\\nSkipping line 101781: expected 11 fields, saw 12\\nSkipping line 122182: expected 11 fields, saw 12\\nSkipping line 122656: expected 11 fields, saw 18\\nSkipping line 122772: expected 11 fields, saw 13\\nSkipping line 130846: expected 11 fields, saw 12\\n'\n",
      "b'Skipping line 135132: expected 11 fields, saw 14\\nSkipping line 136369: expected 11 fields, saw 12\\nSkipping line 147331: expected 11 fields, saw 14\\nSkipping line 147970: expected 11 fields, saw 12\\nSkipping line 152894: expected 11 fields, saw 12\\nSkipping line 158077: expected 11 fields, saw 12\\nSkipping line 159446: expected 11 fields, saw 13\\nSkipping line 160408: expected 11 fields, saw 12\\nSkipping line 161512: expected 11 fields, saw 13\\nSkipping line 162246: expected 11 fields, saw 15\\nSkipping line 163474: expected 11 fields, saw 12\\nSkipping line 166592: expected 11 fields, saw 18\\n'\n"
     ]
    }
   ],
   "source": [
    "df = pd.read_csv('..\\..\\data\\\\crudos\\\\DetallesEncuesta_CateCursos2021InicialyAvanzado.csv', error_bad_lines=False)"
   ]
  },
  {
   "cell_type": "code",
   "execution_count": 15,
   "metadata": {},
   "outputs": [
    {
     "output_type": "execute_result",
     "data": {
      "text/plain": [
       "Index(['Nombre', 'Apellido', 'Correo Electrónico', 'Encuesta', 'Pregunta',\n",
       "       'Respuesta', 'Hora', 'Curso', 'ID Asignado Por Moodle',\n",
       "       'Número De Identificación', 'Nombre De Usuario'],\n",
       "      dtype='object')"
      ]
     },
     "metadata": {},
     "execution_count": 15
    }
   ],
   "source": [
    "df.columns"
   ]
  },
  {
   "cell_type": "code",
   "execution_count": 16,
   "metadata": {},
   "outputs": [
    {
     "output_type": "execute_result",
     "data": {
      "text/plain": [
       "0                     Fran Edilson\n",
       "1                      Andrey León\n",
       "2                      Andrey León\n",
       "3                      Andrey León\n",
       "4                      Andrey León\n",
       "                    ...           \n",
       "277364               fany de jesus\n",
       "277365               Susan Natalia\n",
       "277366               JENIFER PAOLA\n",
       "277367    RICARDO LUIS SOLANO DIAZ\n",
       "277368              Heisson Darley\n",
       "Name: Nombre, Length: 277369, dtype: object"
      ]
     },
     "metadata": {},
     "execution_count": 16
    }
   ],
   "source": [
    "df['Nombre']"
   ]
  },
  {
   "cell_type": "code",
   "execution_count": null,
   "metadata": {},
   "outputs": [],
   "source": [
    "df['Nombre'].str.contains('Andrey')"
   ]
  }
 ]
}